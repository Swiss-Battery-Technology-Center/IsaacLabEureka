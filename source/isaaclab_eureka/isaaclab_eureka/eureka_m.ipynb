{
 "cells": [
  {
   "cell_type": "code",
   "execution_count": 6,
   "metadata": {},
   "outputs": [],
   "source": [
    "import re\n",
    "\n",
    "response = \"Okay, here's a suggestion for tuning the PPO hyperparameters, focusing on potentially improving the learning speed and performance for the Franka arm screw engagement task. The main adjustments revolve around the learning rate and the KL divergence threshold, in order to improve learning.\\n\\nSuggestion 1\\n{'models.policy.clip_actions': False, 'agent.discount_factor': 0.99, 'agent.learning_rate': 0.0005, 'agent.learning_rate_scheduler_kwargs.kl_threshold': 0.008}\\n\"\n",
    "\n",
    "pattern = r\"\\{[^{}]*\\}\" # Match anything inside curly braces `{...}`\n",
    "matches = re.findall(pattern, response, re.DOTALL)\n"
   ]
  },
  {
   "cell_type": "code",
   "execution_count": 7,
   "metadata": {},
   "outputs": [
    {
     "data": {
      "text/plain": [
       "[\"{'models.policy.clip_actions': False, 'agent.discount_factor': 0.99, 'agent.learning_rate': 0.0005, 'agent.learning_rate_scheduler_kwargs.kl_threshold': 0.008}\"]"
      ]
     },
     "execution_count": 7,
     "metadata": {},
     "output_type": "execute_result"
    }
   ],
   "source": [
    "matches"
   ]
  }
 ],
 "metadata": {
  "kernelspec": {
   "display_name": "env_isaaclab",
   "language": "python",
   "name": "python3"
  },
  "language_info": {
   "codemirror_mode": {
    "name": "ipython",
    "version": 3
   },
   "file_extension": ".py",
   "mimetype": "text/x-python",
   "name": "python",
   "nbconvert_exporter": "python",
   "pygments_lexer": "ipython3",
   "version": "3.10.16"
  }
 },
 "nbformat": 4,
 "nbformat_minor": 2
}
