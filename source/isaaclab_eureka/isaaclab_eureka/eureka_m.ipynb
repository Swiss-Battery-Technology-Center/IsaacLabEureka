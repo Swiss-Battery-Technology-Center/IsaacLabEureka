{
 "cells": [
  {
   "cell_type": "code",
   "execution_count": 4,
   "metadata": {},
   "outputs": [
    {
     "name": "stdout",
     "output_type": "stream",
     "text": [
      "🔍 Agent differences:\n",
      "\n",
      "🔍 Env differences:\n"
     ]
    }
   ],
   "source": [
    "# code snippet to make sure eureka is changing the environment/agent before rl training starts\n",
    "\n",
    "from pathlib import Path\n",
    "\n",
    "from yaml import load, UnsafeLoader\n",
    "\n",
    "def load_yaml(path):\n",
    "    with open(path, \"r\") as f:\n",
    "        return load(f, Loader=UnsafeLoader)\n",
    "\n",
    "\n",
    "def dict_diff(d1, d2, prefix=\"\"):\n",
    "    diffs = []\n",
    "    keys = set(d1.keys()) | set(d2.keys())\n",
    "    for key in sorted(keys):\n",
    "        v1 = d1.get(key, \"<MISSING>\")\n",
    "        v2 = d2.get(key, \"<MISSING>\")\n",
    "        full_key = f\"{prefix}.{key}\" if prefix else key\n",
    "\n",
    "        if isinstance(v1, dict) and isinstance(v2, dict):\n",
    "            diffs += dict_diff(v1, v2, prefix=full_key)\n",
    "        elif v1 != v2:\n",
    "            diffs.append(f\"{full_key}: {v1} != {v2}\")\n",
    "    return diffs\n",
    "\n",
    "# Replace these with your actual file paths\n",
    "agent1_path = Path(\"/workspace/isaaclab/logs/eureka/rsl_rl/sbtc_franka_lift_osc/ppo_tuning/warmstart/2025-04-01_19-47-20_Run-0_iter-1/params/agent.yaml\")\n",
    "agent2_path = Path(\"/workspace/isaaclab/logs/eureka/rsl_rl/sbtc_franka_lift_osc/ppo_tuning/warmstart/2025-04-01_19-32-25_Run-0_iter-0/params/agent.yaml\")\n",
    "env1_path = Path(\"/workspace/isaaclab/logs/eureka/rsl_rl/sbtc_franka_lift_osc/ppo_tuning/warmstart/2025-04-01_19-47-20_Run-0_iter-1/params/env.yaml\")\n",
    "env2_path = Path(\"/workspace/isaaclab/logs/eureka/rsl_rl/sbtc_franka_lift_osc/ppo_tuning/warmstart/2025-04-01_19-32-25_Run-0_iter-0/params/env.yaml\")\n",
    "\n",
    "agent1 = load_yaml(agent1_path)\n",
    "agent2 = load_yaml(agent2_path)\n",
    "env1 = load_yaml(env1_path)\n",
    "env2 = load_yaml(env2_path)\n",
    "\n",
    "print(\"🔍 Agent differences:\")\n",
    "for diff in dict_diff(agent1, agent2):\n",
    "    print(diff)\n",
    "\n",
    "print(\"\\n🔍 Env differences:\")\n",
    "for diff in dict_diff(env1, env2):\n",
    "    print(diff)\n"
   ]
  }
 ],
 "metadata": {
  "kernelspec": {
   "display_name": "env_isaaclab",
   "language": "python",
   "name": "python3"
  },
  "language_info": {
   "codemirror_mode": {
    "name": "ipython",
    "version": 3
   },
   "file_extension": ".py",
   "mimetype": "text/x-python",
   "name": "python",
   "nbconvert_exporter": "python",
   "pygments_lexer": "ipython3",
   "version": "3.10.16"
  }
 },
 "nbformat": 4,
 "nbformat_minor": 2
}
